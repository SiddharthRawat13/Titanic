{
 "cells": [
  {
   "cell_type": "markdown",
   "id": "20037a95-99b3-4a5a-b233-1b641132e4cb",
   "metadata": {},
   "source": [
    "## Feature Engineering:\n",
    "\n",
    "Extract titles from the Name column (e.g., Mr., Mrs., Miss) to create a new feature (Title).\n",
    "\n",
    "Create a family size feature: FamilySize = SibSp + Parch + 1.\n",
    "\n",
    "Bin ages into categories (Child, Teenager, Adult, Senior) for better analysis.\n",
    "\n",
    "## Questions to Solve\n",
    "1. What is the percentage of survivors on the Titanic?\n",
    "\n",
    "2. How does survival rate vary across Pclass and Sex?\n",
    "\n",
    "3. What is the correlation between Fare and survival?\n",
    "\n",
    "4. What is the impact of family size (FamilySize) on survival rates?\n",
    "\n",
    "5. Are passengers who embarked from certain locations more likely to survive?\n",
    "\n",
    "6. How does age distribution impact survival?\n",
    "\n",
    "## Advanced Analysis\n",
    "Lets dive deeper into the dataset using machine learning models or advanced statistical techniques.\n",
    "\n",
    "#### Additional Questions:\n",
    " Can you predict survival using logistic regression or decision trees?\n",
    "\n",
    " What is the importance of each feature in predicting survival?\n",
    "\n",
    "#### Visualization in Power BI\n",
    "Use Power BI for interactive dashboards and comparisons:\n",
    "\n",
    "### Suggested Visualizations:\n",
    "Overall Survival Rate:\n",
    "\n",
    "Create a pie chart showing the percentage of survivors vs non-survivors.\n",
    "\n",
    "Survival by Gender and Class:\n",
    "\n",
    "Use a stacked bar chart to show survival rates broken down by gender and passenger class.\n",
    "\n",
    "Age Distribution:\n",
    "\n",
    "Create a histogram or line chart comparing age distributions of survivors vs non-survivors.\n",
    "\n",
    "Fare Analysis:\n",
    "\n",
    "Use a scatter plot to analyze the relationship between fare and survival.\n",
    "\n",
    "Geographic Analysis of Embarkation Ports:\n",
    "\n",
    "Use a map visualization to show survival rates by embarkation port (Embarked_country).\n",
    "\n",
    "Family Size Impact:\n",
    "\n",
    "Create a bar chart showing survival rates for different family sizes.\n",
    "\n",
    "\n"
   ]
  },
  {
   "cell_type": "code",
   "execution_count": 2,
   "id": "2f612ea6-f273-4c2e-8286-f657ebbacf92",
   "metadata": {},
   "outputs": [],
   "source": [
    "import pandas as pd\n",
    "import numpy as np\n",
    "import seaborn as sns\n",
    "import matplotlib.pyplot as plt\n",
    "from sklearn.model_selection import train_test_split\n",
    "from sklearn.ensemble import RandomForestRegressor\n",
    "from sklearn.preprocessing import LabelEncoder"
   ]
  },
  {
   "cell_type": "code",
   "execution_count": 3,
   "id": "1477f38f-eb2b-4a2c-8e55-3a818c7a167b",
   "metadata": {},
   "outputs": [],
   "source": [
    "df = pd.read_csv('train.csv')"
   ]
  },
  {
   "cell_type": "code",
   "execution_count": 4,
   "id": "446c3603-8f48-449d-82ca-72f842aafe20",
   "metadata": {},
   "outputs": [
    {
     "data": {
      "text/html": [
       "<div>\n",
       "<style scoped>\n",
       "    .dataframe tbody tr th:only-of-type {\n",
       "        vertical-align: middle;\n",
       "    }\n",
       "\n",
       "    .dataframe tbody tr th {\n",
       "        vertical-align: top;\n",
       "    }\n",
       "\n",
       "    .dataframe thead th {\n",
       "        text-align: right;\n",
       "    }\n",
       "</style>\n",
       "<table border=\"1\" class=\"dataframe\">\n",
       "  <thead>\n",
       "    <tr style=\"text-align: right;\">\n",
       "      <th></th>\n",
       "      <th>PassengerId</th>\n",
       "      <th>Survived</th>\n",
       "      <th>Pclass</th>\n",
       "      <th>Name</th>\n",
       "      <th>Sex</th>\n",
       "      <th>Age</th>\n",
       "      <th>SibSp</th>\n",
       "      <th>Parch</th>\n",
       "      <th>Ticket</th>\n",
       "      <th>Fare</th>\n",
       "      <th>Cabin</th>\n",
       "      <th>Embarked</th>\n",
       "    </tr>\n",
       "  </thead>\n",
       "  <tbody>\n",
       "    <tr>\n",
       "      <th>0</th>\n",
       "      <td>1</td>\n",
       "      <td>0</td>\n",
       "      <td>3</td>\n",
       "      <td>Braund, Mr. Owen Harris</td>\n",
       "      <td>male</td>\n",
       "      <td>22.0</td>\n",
       "      <td>1</td>\n",
       "      <td>0</td>\n",
       "      <td>A/5 21171</td>\n",
       "      <td>7.2500</td>\n",
       "      <td>NaN</td>\n",
       "      <td>S</td>\n",
       "    </tr>\n",
       "    <tr>\n",
       "      <th>1</th>\n",
       "      <td>2</td>\n",
       "      <td>1</td>\n",
       "      <td>1</td>\n",
       "      <td>Cumings, Mrs. John Bradley (Florence Briggs Th...</td>\n",
       "      <td>female</td>\n",
       "      <td>38.0</td>\n",
       "      <td>1</td>\n",
       "      <td>0</td>\n",
       "      <td>PC 17599</td>\n",
       "      <td>71.2833</td>\n",
       "      <td>C85</td>\n",
       "      <td>C</td>\n",
       "    </tr>\n",
       "    <tr>\n",
       "      <th>2</th>\n",
       "      <td>3</td>\n",
       "      <td>1</td>\n",
       "      <td>3</td>\n",
       "      <td>Heikkinen, Miss. Laina</td>\n",
       "      <td>female</td>\n",
       "      <td>26.0</td>\n",
       "      <td>0</td>\n",
       "      <td>0</td>\n",
       "      <td>STON/O2. 3101282</td>\n",
       "      <td>7.9250</td>\n",
       "      <td>NaN</td>\n",
       "      <td>S</td>\n",
       "    </tr>\n",
       "    <tr>\n",
       "      <th>3</th>\n",
       "      <td>4</td>\n",
       "      <td>1</td>\n",
       "      <td>1</td>\n",
       "      <td>Futrelle, Mrs. Jacques Heath (Lily May Peel)</td>\n",
       "      <td>female</td>\n",
       "      <td>35.0</td>\n",
       "      <td>1</td>\n",
       "      <td>0</td>\n",
       "      <td>113803</td>\n",
       "      <td>53.1000</td>\n",
       "      <td>C123</td>\n",
       "      <td>S</td>\n",
       "    </tr>\n",
       "    <tr>\n",
       "      <th>4</th>\n",
       "      <td>5</td>\n",
       "      <td>0</td>\n",
       "      <td>3</td>\n",
       "      <td>Allen, Mr. William Henry</td>\n",
       "      <td>male</td>\n",
       "      <td>35.0</td>\n",
       "      <td>0</td>\n",
       "      <td>0</td>\n",
       "      <td>373450</td>\n",
       "      <td>8.0500</td>\n",
       "      <td>NaN</td>\n",
       "      <td>S</td>\n",
       "    </tr>\n",
       "  </tbody>\n",
       "</table>\n",
       "</div>"
      ],
      "text/plain": [
       "   PassengerId  Survived  Pclass  \\\n",
       "0            1         0       3   \n",
       "1            2         1       1   \n",
       "2            3         1       3   \n",
       "3            4         1       1   \n",
       "4            5         0       3   \n",
       "\n",
       "                                                Name     Sex   Age  SibSp  \\\n",
       "0                            Braund, Mr. Owen Harris    male  22.0      1   \n",
       "1  Cumings, Mrs. John Bradley (Florence Briggs Th...  female  38.0      1   \n",
       "2                             Heikkinen, Miss. Laina  female  26.0      0   \n",
       "3       Futrelle, Mrs. Jacques Heath (Lily May Peel)  female  35.0      1   \n",
       "4                           Allen, Mr. William Henry    male  35.0      0   \n",
       "\n",
       "   Parch            Ticket     Fare Cabin Embarked  \n",
       "0      0         A/5 21171   7.2500   NaN        S  \n",
       "1      0          PC 17599  71.2833   C85        C  \n",
       "2      0  STON/O2. 3101282   7.9250   NaN        S  \n",
       "3      0            113803  53.1000  C123        S  \n",
       "4      0            373450   8.0500   NaN        S  "
      ]
     },
     "execution_count": 4,
     "metadata": {},
     "output_type": "execute_result"
    }
   ],
   "source": [
    "df.head(5)"
   ]
  },
  {
   "cell_type": "code",
   "execution_count": 5,
   "id": "e6c66119-9d21-4c9a-9491-8fd2508cad55",
   "metadata": {},
   "outputs": [
    {
     "name": "stdout",
     "output_type": "stream",
     "text": [
      "<class 'pandas.core.frame.DataFrame'>\n",
      "RangeIndex: 891 entries, 0 to 890\n",
      "Data columns (total 12 columns):\n",
      " #   Column       Non-Null Count  Dtype  \n",
      "---  ------       --------------  -----  \n",
      " 0   PassengerId  891 non-null    int64  \n",
      " 1   Survived     891 non-null    int64  \n",
      " 2   Pclass       891 non-null    int64  \n",
      " 3   Name         891 non-null    object \n",
      " 4   Sex          891 non-null    object \n",
      " 5   Age          714 non-null    float64\n",
      " 6   SibSp        891 non-null    int64  \n",
      " 7   Parch        891 non-null    int64  \n",
      " 8   Ticket       891 non-null    object \n",
      " 9   Fare         891 non-null    float64\n",
      " 10  Cabin        204 non-null    object \n",
      " 11  Embarked     889 non-null    object \n",
      "dtypes: float64(2), int64(5), object(5)\n",
      "memory usage: 83.7+ KB\n"
     ]
    }
   ],
   "source": [
    "df.info()"
   ]
  },
  {
   "cell_type": "code",
   "execution_count": 6,
   "id": "0e8c166a-3f66-475d-ae77-f6078945195e",
   "metadata": {},
   "outputs": [],
   "source": [
    "df1 = df.dropna(axis=1)"
   ]
  },
  {
   "cell_type": "code",
   "execution_count": 7,
   "id": "5f7704e0-4e57-4125-a034-6862fa3c7b79",
   "metadata": {},
   "outputs": [
    {
     "data": {
      "text/plain": [
       "(891, 9)"
      ]
     },
     "execution_count": 7,
     "metadata": {},
     "output_type": "execute_result"
    }
   ],
   "source": [
    "df1.shape"
   ]
  },
  {
   "cell_type": "code",
   "execution_count": 8,
   "id": "e6630e42-0b4b-4567-a62e-967b6236a3dc",
   "metadata": {},
   "outputs": [
    {
     "data": {
      "text/html": [
       "<div>\n",
       "<style scoped>\n",
       "    .dataframe tbody tr th:only-of-type {\n",
       "        vertical-align: middle;\n",
       "    }\n",
       "\n",
       "    .dataframe tbody tr th {\n",
       "        vertical-align: top;\n",
       "    }\n",
       "\n",
       "    .dataframe thead th {\n",
       "        text-align: right;\n",
       "    }\n",
       "</style>\n",
       "<table border=\"1\" class=\"dataframe\">\n",
       "  <thead>\n",
       "    <tr style=\"text-align: right;\">\n",
       "      <th></th>\n",
       "      <th>PassengerId</th>\n",
       "      <th>Survived</th>\n",
       "      <th>Pclass</th>\n",
       "      <th>Name</th>\n",
       "      <th>Sex</th>\n",
       "      <th>SibSp</th>\n",
       "      <th>Parch</th>\n",
       "      <th>Ticket</th>\n",
       "      <th>Fare</th>\n",
       "    </tr>\n",
       "  </thead>\n",
       "  <tbody>\n",
       "    <tr>\n",
       "      <th>0</th>\n",
       "      <td>1</td>\n",
       "      <td>0</td>\n",
       "      <td>3</td>\n",
       "      <td>Braund, Mr. Owen Harris</td>\n",
       "      <td>male</td>\n",
       "      <td>1</td>\n",
       "      <td>0</td>\n",
       "      <td>A/5 21171</td>\n",
       "      <td>7.2500</td>\n",
       "    </tr>\n",
       "    <tr>\n",
       "      <th>1</th>\n",
       "      <td>2</td>\n",
       "      <td>1</td>\n",
       "      <td>1</td>\n",
       "      <td>Cumings, Mrs. John Bradley (Florence Briggs Th...</td>\n",
       "      <td>female</td>\n",
       "      <td>1</td>\n",
       "      <td>0</td>\n",
       "      <td>PC 17599</td>\n",
       "      <td>71.2833</td>\n",
       "    </tr>\n",
       "    <tr>\n",
       "      <th>2</th>\n",
       "      <td>3</td>\n",
       "      <td>1</td>\n",
       "      <td>3</td>\n",
       "      <td>Heikkinen, Miss. Laina</td>\n",
       "      <td>female</td>\n",
       "      <td>0</td>\n",
       "      <td>0</td>\n",
       "      <td>STON/O2. 3101282</td>\n",
       "      <td>7.9250</td>\n",
       "    </tr>\n",
       "    <tr>\n",
       "      <th>3</th>\n",
       "      <td>4</td>\n",
       "      <td>1</td>\n",
       "      <td>1</td>\n",
       "      <td>Futrelle, Mrs. Jacques Heath (Lily May Peel)</td>\n",
       "      <td>female</td>\n",
       "      <td>1</td>\n",
       "      <td>0</td>\n",
       "      <td>113803</td>\n",
       "      <td>53.1000</td>\n",
       "    </tr>\n",
       "    <tr>\n",
       "      <th>4</th>\n",
       "      <td>5</td>\n",
       "      <td>0</td>\n",
       "      <td>3</td>\n",
       "      <td>Allen, Mr. William Henry</td>\n",
       "      <td>male</td>\n",
       "      <td>0</td>\n",
       "      <td>0</td>\n",
       "      <td>373450</td>\n",
       "      <td>8.0500</td>\n",
       "    </tr>\n",
       "  </tbody>\n",
       "</table>\n",
       "</div>"
      ],
      "text/plain": [
       "   PassengerId  Survived  Pclass  \\\n",
       "0            1         0       3   \n",
       "1            2         1       1   \n",
       "2            3         1       3   \n",
       "3            4         1       1   \n",
       "4            5         0       3   \n",
       "\n",
       "                                                Name     Sex  SibSp  Parch  \\\n",
       "0                            Braund, Mr. Owen Harris    male      1      0   \n",
       "1  Cumings, Mrs. John Bradley (Florence Briggs Th...  female      1      0   \n",
       "2                             Heikkinen, Miss. Laina  female      0      0   \n",
       "3       Futrelle, Mrs. Jacques Heath (Lily May Peel)  female      1      0   \n",
       "4                           Allen, Mr. William Henry    male      0      0   \n",
       "\n",
       "             Ticket     Fare  \n",
       "0         A/5 21171   7.2500  \n",
       "1          PC 17599  71.2833  \n",
       "2  STON/O2. 3101282   7.9250  \n",
       "3            113803  53.1000  \n",
       "4            373450   8.0500  "
      ]
     },
     "execution_count": 8,
     "metadata": {},
     "output_type": "execute_result"
    }
   ],
   "source": [
    "df1.head()"
   ]
  },
  {
   "cell_type": "code",
   "execution_count": 9,
   "id": "ca71a6e2-b94b-4534-876a-a43e416caa9e",
   "metadata": {},
   "outputs": [
    {
     "data": {
      "text/plain": [
       "(891, 12)"
      ]
     },
     "execution_count": 9,
     "metadata": {},
     "output_type": "execute_result"
    }
   ],
   "source": [
    "df.shape"
   ]
  },
  {
   "cell_type": "code",
   "execution_count": 10,
   "id": "45897144-fd3f-4152-8b5e-fd13c342375c",
   "metadata": {},
   "outputs": [
    {
     "data": {
      "text/plain": [
       "PassengerId      0\n",
       "Survived         0\n",
       "Pclass           0\n",
       "Name             0\n",
       "Sex              0\n",
       "Age            177\n",
       "SibSp            0\n",
       "Parch            0\n",
       "Ticket           0\n",
       "Fare             0\n",
       "Cabin          687\n",
       "Embarked         2\n",
       "dtype: int64"
      ]
     },
     "execution_count": 10,
     "metadata": {},
     "output_type": "execute_result"
    }
   ],
   "source": [
    "df.isnull().sum()"
   ]
  },
  {
   "cell_type": "code",
   "execution_count": 11,
   "id": "5c6d9192-1d5d-4493-bffd-4b0099330629",
   "metadata": {},
   "outputs": [],
   "source": [
    "# Creating family column\n",
    "\n",
    "df['family_size'] = df['SibSp'] + df['Parch'] + 1"
   ]
  },
  {
   "cell_type": "code",
   "execution_count": 12,
   "id": "9639e731-2eb5-4da1-8e42-c502f43418b1",
   "metadata": {},
   "outputs": [
    {
     "data": {
      "text/plain": [
       "array([ 2,  1,  5,  3,  7,  6,  4,  8, 11])"
      ]
     },
     "execution_count": 12,
     "metadata": {},
     "output_type": "execute_result"
    }
   ],
   "source": [
    "df['family_size'].unique()"
   ]
  },
  {
   "cell_type": "code",
   "execution_count": 13,
   "id": "ef715b3d-7e12-4e74-bfab-a4088a87bda9",
   "metadata": {},
   "outputs": [
    {
     "data": {
      "text/plain": [
       "array([3, 1, 2])"
      ]
     },
     "execution_count": 13,
     "metadata": {},
     "output_type": "execute_result"
    }
   ],
   "source": [
    "df['Pclass'].unique()"
   ]
  },
  {
   "cell_type": "code",
   "execution_count": null,
   "id": "6384e852-1ed7-42de-b5b5-a67f3bea89b2",
   "metadata": {},
   "outputs": [],
   "source": []
  },
  {
   "cell_type": "code",
   "execution_count": 14,
   "id": "e16a1058-c7b9-4cd1-a657-ad2c549fafb6",
   "metadata": {},
   "outputs": [
    {
     "data": {
      "text/html": [
       "<div>\n",
       "<style scoped>\n",
       "    .dataframe tbody tr th:only-of-type {\n",
       "        vertical-align: middle;\n",
       "    }\n",
       "\n",
       "    .dataframe tbody tr th {\n",
       "        vertical-align: top;\n",
       "    }\n",
       "\n",
       "    .dataframe thead th {\n",
       "        text-align: right;\n",
       "    }\n",
       "</style>\n",
       "<table border=\"1\" class=\"dataframe\">\n",
       "  <thead>\n",
       "    <tr style=\"text-align: right;\">\n",
       "      <th></th>\n",
       "      <th>PassengerId</th>\n",
       "      <th>Survived</th>\n",
       "      <th>Pclass</th>\n",
       "      <th>Name</th>\n",
       "      <th>Sex</th>\n",
       "      <th>Age</th>\n",
       "      <th>SibSp</th>\n",
       "      <th>Parch</th>\n",
       "      <th>Ticket</th>\n",
       "      <th>Fare</th>\n",
       "      <th>Cabin</th>\n",
       "      <th>Embarked</th>\n",
       "      <th>family_size</th>\n",
       "    </tr>\n",
       "  </thead>\n",
       "  <tbody>\n",
       "    <tr>\n",
       "      <th>0</th>\n",
       "      <td>1</td>\n",
       "      <td>0</td>\n",
       "      <td>3</td>\n",
       "      <td>Braund, Mr. Owen Harris</td>\n",
       "      <td>male</td>\n",
       "      <td>22.0</td>\n",
       "      <td>1</td>\n",
       "      <td>0</td>\n",
       "      <td>A/5 21171</td>\n",
       "      <td>7.2500</td>\n",
       "      <td>NaN</td>\n",
       "      <td>S</td>\n",
       "      <td>2</td>\n",
       "    </tr>\n",
       "    <tr>\n",
       "      <th>1</th>\n",
       "      <td>2</td>\n",
       "      <td>1</td>\n",
       "      <td>1</td>\n",
       "      <td>Cumings, Mrs. John Bradley (Florence Briggs Th...</td>\n",
       "      <td>female</td>\n",
       "      <td>38.0</td>\n",
       "      <td>1</td>\n",
       "      <td>0</td>\n",
       "      <td>PC 17599</td>\n",
       "      <td>71.2833</td>\n",
       "      <td>C85</td>\n",
       "      <td>C</td>\n",
       "      <td>2</td>\n",
       "    </tr>\n",
       "  </tbody>\n",
       "</table>\n",
       "</div>"
      ],
      "text/plain": [
       "   PassengerId  Survived  Pclass  \\\n",
       "0            1         0       3   \n",
       "1            2         1       1   \n",
       "\n",
       "                                                Name     Sex   Age  SibSp  \\\n",
       "0                            Braund, Mr. Owen Harris    male  22.0      1   \n",
       "1  Cumings, Mrs. John Bradley (Florence Briggs Th...  female  38.0      1   \n",
       "\n",
       "   Parch     Ticket     Fare Cabin Embarked  family_size  \n",
       "0      0  A/5 21171   7.2500   NaN        S            2  \n",
       "1      0   PC 17599  71.2833   C85        C            2  "
      ]
     },
     "execution_count": 14,
     "metadata": {},
     "output_type": "execute_result"
    }
   ],
   "source": [
    "df.head(2)"
   ]
  },
  {
   "cell_type": "code",
   "execution_count": 15,
   "id": "d30dc8b6-3d10-4be3-a319-b3eedf5de966",
   "metadata": {},
   "outputs": [],
   "source": [
    "df['Title'] = df['Name'].str.extract(r'([A-Za-z]+)\\.')"
   ]
  },
  {
   "cell_type": "code",
   "execution_count": 16,
   "id": "d115dfd6-a699-498a-a4aa-0c3dee9f900a",
   "metadata": {
    "scrolled": true
   },
   "outputs": [
    {
     "name": "stdout",
     "output_type": "stream",
     "text": [
      "['Mr' 'Mrs' 'Miss' 'Master' 'Don' 'Rev' 'Dr' 'Mme' 'Ms' 'Major' 'Lady'\n",
      " 'Sir' 'Mlle' 'Col' 'Capt' 'Countess' 'Jonkheer']\n",
      "0\n",
      "['Man' 'Married_Woman' 'Single_Woman' 'Boy']\n"
     ]
    }
   ],
   "source": [
    "#Mappping title with ('Man' 'Married_Woman' 'Single_Woman' 'Boy')\n",
    "\n",
    "\n",
    "#print(len('Title_'))\n",
    "#print(len(df))\n",
    "\n",
    "print(df['Title'].unique())  # Assuming your title column in df is named 'Title'\n",
    "\n",
    "\n",
    "# Example cleaning steps (apply as needed based on your findings)\n",
    "df['Title_Cleaned'] = df['Title'].str.strip()\n",
    "df['Title_Cleaned'] = df['Title_Cleaned'].str.lower() # Or .str.upper()\n",
    "\n",
    "title_mapping_updated = {\n",
    "    'mr': 'Man',\n",
    "    'mr.': 'Man',  # Example for punctuation\n",
    "    'don': 'Man',\n",
    "    'sir': 'Man',\n",
    "    'major': 'Man',\n",
    "    'col': 'Man',\n",
    "    'capt': 'Man',\n",
    "    'rev': 'Man',\n",
    "    'dr': 'Man',\n",
    "    'jonkheer': 'Man',\n",
    "    'mrs': 'Married_Woman',\n",
    "    'mme': 'Married_Woman',\n",
    "    'lady': 'Married_Woman',\n",
    "    'countess': 'Married_Woman',\n",
    "    'miss': 'Single_Woman',\n",
    "    'mlle': 'Single_Woman',\n",
    "    'ms': 'Single_Woman',\n",
    "    'master': 'Boy',\n",
    "    'mstr': 'Boy' # Example for abbreviation/typo\n",
    "}\n",
    "# Now map from the cleaned title column\n",
    "mapped_title = df['Title_Cleaned'].map(title_mapping_updated).fillna('other')\n",
    "df['mapped_title'] = mapped_title\n",
    "print(df['mapped_title'].isnull().sum())\n",
    "print(df['mapped_title'].unique())\n"
   ]
  },
  {
   "cell_type": "code",
   "execution_count": 17,
   "id": "3eee0f78-55d0-4448-8fc7-3bba797ab2cd",
   "metadata": {},
   "outputs": [],
   "source": [
    "df.drop('PassengerId',inplace=True,axis=1)"
   ]
  },
  {
   "cell_type": "code",
   "execution_count": 18,
   "id": "f9b706f4-a0c1-4736-8fc4-dd83f1769105",
   "metadata": {},
   "outputs": [],
   "source": [
    "df.drop('Title',inplace=True, axis=True)"
   ]
  },
  {
   "cell_type": "code",
   "execution_count": 19,
   "id": "489b4550-4cde-4d41-9328-c3dd25d789f7",
   "metadata": {},
   "outputs": [],
   "source": [
    "df.drop('Cabin',inplace=True,axis=1)"
   ]
  },
  {
   "cell_type": "code",
   "execution_count": 20,
   "id": "9d9b8253-5373-4c13-be8a-9cb2c491e89c",
   "metadata": {},
   "outputs": [
    {
     "data": {
      "text/plain": [
       "array(['Man', 'Married_Woman', 'Single_Woman', 'Boy'], dtype=object)"
      ]
     },
     "execution_count": 20,
     "metadata": {},
     "output_type": "execute_result"
    }
   ],
   "source": [
    "df['mapped_title'].unique()"
   ]
  },
  {
   "cell_type": "code",
   "execution_count": 21,
   "id": "7ce14ffa-fa5c-4f25-bd68-d2acb0a222f4",
   "metadata": {},
   "outputs": [],
   "source": [
    "#Creating Emabarked country from Embarked column\n",
    "\n",
    "Embarked_country_mapping = {\n",
    "    'C' : 'France',\n",
    "    'Q' : 'Ireland',\n",
    "    'S' : 'England'\n",
    "}\n",
    "#Creating new Embarked country using maping\n",
    "df['Embarked_country'] = df['Embarked'].map(Embarked_country_mapping)\n"
   ]
  },
  {
   "cell_type": "code",
   "execution_count": 22,
   "id": "61084ccc-f4e9-4ce5-9136-855893cc30a9",
   "metadata": {},
   "outputs": [],
   "source": [
    "grouped_data = df.groupby('Embarked_country')[['Survived','mapped_title']].value_counts().unstack(fill_value=0).astype(int)"
   ]
  },
  {
   "cell_type": "code",
   "execution_count": 23,
   "id": "5f926523-0608-47d9-aca1-f01dc126e32b",
   "metadata": {},
   "outputs": [
    {
     "data": {
      "text/html": [
       "<div>\n",
       "<style scoped>\n",
       "    .dataframe tbody tr th:only-of-type {\n",
       "        vertical-align: middle;\n",
       "    }\n",
       "\n",
       "    .dataframe tbody tr th {\n",
       "        vertical-align: top;\n",
       "    }\n",
       "\n",
       "    .dataframe thead th {\n",
       "        text-align: right;\n",
       "    }\n",
       "</style>\n",
       "<table border=\"1\" class=\"dataframe\">\n",
       "  <thead>\n",
       "    <tr style=\"text-align: right;\">\n",
       "      <th></th>\n",
       "      <th>mapped_title</th>\n",
       "      <th>Boy</th>\n",
       "      <th>Man</th>\n",
       "      <th>Married_Woman</th>\n",
       "      <th>Single_Woman</th>\n",
       "    </tr>\n",
       "    <tr>\n",
       "      <th>Embarked_country</th>\n",
       "      <th>Survived</th>\n",
       "      <th></th>\n",
       "      <th></th>\n",
       "      <th></th>\n",
       "      <th></th>\n",
       "    </tr>\n",
       "  </thead>\n",
       "  <tbody>\n",
       "    <tr>\n",
       "      <th rowspan=\"2\" valign=\"top\">England</th>\n",
       "      <th>0</th>\n",
       "      <td>13</td>\n",
       "      <td>351</td>\n",
       "      <td>21</td>\n",
       "      <td>42</td>\n",
       "    </tr>\n",
       "    <tr>\n",
       "      <th>1</th>\n",
       "      <td>18</td>\n",
       "      <td>60</td>\n",
       "      <td>70</td>\n",
       "      <td>69</td>\n",
       "    </tr>\n",
       "    <tr>\n",
       "      <th rowspan=\"2\" valign=\"top\">France</th>\n",
       "      <th>0</th>\n",
       "      <td>0</td>\n",
       "      <td>66</td>\n",
       "      <td>3</td>\n",
       "      <td>6</td>\n",
       "    </tr>\n",
       "    <tr>\n",
       "      <th>1</th>\n",
       "      <td>5</td>\n",
       "      <td>24</td>\n",
       "      <td>30</td>\n",
       "      <td>34</td>\n",
       "    </tr>\n",
       "    <tr>\n",
       "      <th rowspan=\"2\" valign=\"top\">Ireland</th>\n",
       "      <th>0</th>\n",
       "      <td>4</td>\n",
       "      <td>34</td>\n",
       "      <td>2</td>\n",
       "      <td>7</td>\n",
       "    </tr>\n",
       "    <tr>\n",
       "      <th>1</th>\n",
       "      <td>0</td>\n",
       "      <td>3</td>\n",
       "      <td>1</td>\n",
       "      <td>26</td>\n",
       "    </tr>\n",
       "  </tbody>\n",
       "</table>\n",
       "</div>"
      ],
      "text/plain": [
       "mapped_title               Boy  Man  Married_Woman  Single_Woman\n",
       "Embarked_country Survived                                       \n",
       "England          0          13  351             21            42\n",
       "                 1          18   60             70            69\n",
       "France           0           0   66              3             6\n",
       "                 1           5   24             30            34\n",
       "Ireland          0           4   34              2             7\n",
       "                 1           0    3              1            26"
      ]
     },
     "execution_count": 23,
     "metadata": {},
     "output_type": "execute_result"
    }
   ],
   "source": [
    "grouped_data"
   ]
  },
  {
   "cell_type": "code",
   "execution_count": 24,
   "id": "d0425f8d-ff8f-4d22-b417-1099950845bc",
   "metadata": {},
   "outputs": [],
   "source": [
    "#Filling 2 NaN in Embarked_country column with mode\n",
    "df['Embarked_country'] = df['Embarked_country'].fillna(df['Embarked_country'].mode()[0])"
   ]
  },
  {
   "cell_type": "code",
   "execution_count": 25,
   "id": "b812fa42-bc6b-4347-880e-e9d43319e3ab",
   "metadata": {},
   "outputs": [
    {
     "data": {
      "text/html": [
       "<div>\n",
       "<style scoped>\n",
       "    .dataframe tbody tr th:only-of-type {\n",
       "        vertical-align: middle;\n",
       "    }\n",
       "\n",
       "    .dataframe tbody tr th {\n",
       "        vertical-align: top;\n",
       "    }\n",
       "\n",
       "    .dataframe thead th {\n",
       "        text-align: right;\n",
       "    }\n",
       "</style>\n",
       "<table border=\"1\" class=\"dataframe\">\n",
       "  <thead>\n",
       "    <tr style=\"text-align: right;\">\n",
       "      <th></th>\n",
       "      <th>Survived</th>\n",
       "      <th>Pclass</th>\n",
       "      <th>Name</th>\n",
       "      <th>Sex</th>\n",
       "      <th>Age</th>\n",
       "      <th>SibSp</th>\n",
       "      <th>Parch</th>\n",
       "      <th>Ticket</th>\n",
       "      <th>Fare</th>\n",
       "      <th>Embarked</th>\n",
       "      <th>family_size</th>\n",
       "      <th>Title_Cleaned</th>\n",
       "      <th>mapped_title</th>\n",
       "      <th>Embarked_country</th>\n",
       "    </tr>\n",
       "  </thead>\n",
       "  <tbody>\n",
       "    <tr>\n",
       "      <th>0</th>\n",
       "      <td>0</td>\n",
       "      <td>3</td>\n",
       "      <td>Braund, Mr. Owen Harris</td>\n",
       "      <td>male</td>\n",
       "      <td>22.0</td>\n",
       "      <td>1</td>\n",
       "      <td>0</td>\n",
       "      <td>A/5 21171</td>\n",
       "      <td>7.2500</td>\n",
       "      <td>S</td>\n",
       "      <td>2</td>\n",
       "      <td>mr</td>\n",
       "      <td>Man</td>\n",
       "      <td>England</td>\n",
       "    </tr>\n",
       "    <tr>\n",
       "      <th>1</th>\n",
       "      <td>1</td>\n",
       "      <td>1</td>\n",
       "      <td>Cumings, Mrs. John Bradley (Florence Briggs Th...</td>\n",
       "      <td>female</td>\n",
       "      <td>38.0</td>\n",
       "      <td>1</td>\n",
       "      <td>0</td>\n",
       "      <td>PC 17599</td>\n",
       "      <td>71.2833</td>\n",
       "      <td>C</td>\n",
       "      <td>2</td>\n",
       "      <td>mrs</td>\n",
       "      <td>Married_Woman</td>\n",
       "      <td>France</td>\n",
       "    </tr>\n",
       "  </tbody>\n",
       "</table>\n",
       "</div>"
      ],
      "text/plain": [
       "   Survived  Pclass                                               Name  \\\n",
       "0         0       3                            Braund, Mr. Owen Harris   \n",
       "1         1       1  Cumings, Mrs. John Bradley (Florence Briggs Th...   \n",
       "\n",
       "      Sex   Age  SibSp  Parch     Ticket     Fare Embarked  family_size  \\\n",
       "0    male  22.0      1      0  A/5 21171   7.2500        S            2   \n",
       "1  female  38.0      1      0   PC 17599  71.2833        C            2   \n",
       "\n",
       "  Title_Cleaned   mapped_title Embarked_country  \n",
       "0            mr            Man          England  \n",
       "1           mrs  Married_Woman           France  "
      ]
     },
     "execution_count": 25,
     "metadata": {},
     "output_type": "execute_result"
    }
   ],
   "source": [
    "df.head(2)"
   ]
  },
  {
   "cell_type": "code",
   "execution_count": 26,
   "id": "e3d4d7ff-574f-452b-8d25-67e5f82ddedb",
   "metadata": {},
   "outputs": [],
   "source": [
    "#predicting Age using Regression Model\n",
    "\n",
    "#1st step \n",
    "\n",
    "feature = ['Pclass','Sex','SibSp','Parch','Fare','Embarked']\n",
    "target = 'Age'\n",
    "\n",
    "#Encode Catorigal data\n",
    "\n",
    "label_encoders = {}\n",
    "\n",
    "for column in ['Sex','Embarked']:\n",
    "    if column in df.columns:\n",
    "        le = LabelEncoder()\n",
    "        df[column] = le.fit_transform(df[column].astype(str))\n",
    "        label_encoders[column] = le\n",
    "\n",
    "#saperate data into known and missing data\n",
    "\n",
    "known_age = df[df['Age'].notna()].copy()\n",
    "unknown_age = df[df['Age'].isna()].copy()\n",
    "\n",
    "#Prepare features and target of traning\n",
    "X_known = known_age[feature]\n",
    "y_known = known_age[target]\n",
    "X_unknown = unknown_age[feature]\n",
    "\n",
    "#Train the regression model (Random Forest)\n",
    "\n",
    "model = RandomForestRegressor(random_state=42)\n",
    "model.fit(X_known , y_known)\n",
    "\n",
    "predicted_age = model.predict(X_unknown)\n",
    "\n",
    "df['predict_age_imputed'] = df['Age']\n",
    "\n",
    "df.loc[df['predict_age_imputed'].isna(), 'predict_age_imputed'] = predicted_age"
   ]
  },
  {
   "cell_type": "code",
   "execution_count": 27,
   "id": "bd1798ae-21af-4ac9-8db2-5a08b0f25ec3",
   "metadata": {},
   "outputs": [],
   "source": [
    "#Bin ages into categories (Child, Teenager, Adult, Senior) for better analysis.\n",
    "\n",
    "#Define the bin edges (the boundries of categories)\n",
    "bins = [0,12,19,60,float('inf')]\n",
    "\n",
    "#Define the category labels\n",
    "labels = ['child','teenager','adult','senior']\n",
    "\n",
    "#using the pd.cut() to bin the Age column\n",
    "df['Age Category'] = pd.cut(df['predict_age_imputed'], bins=bins,labels=labels,right=False)"
   ]
  },
  {
   "cell_type": "code",
   "execution_count": 28,
   "id": "252a53ae-74d2-43be-92d3-10355148cb9f",
   "metadata": {},
   "outputs": [
    {
     "data": {
      "text/html": [
       "<div>\n",
       "<style scoped>\n",
       "    .dataframe tbody tr th:only-of-type {\n",
       "        vertical-align: middle;\n",
       "    }\n",
       "\n",
       "    .dataframe tbody tr th {\n",
       "        vertical-align: top;\n",
       "    }\n",
       "\n",
       "    .dataframe thead th {\n",
       "        text-align: right;\n",
       "    }\n",
       "</style>\n",
       "<table border=\"1\" class=\"dataframe\">\n",
       "  <thead>\n",
       "    <tr style=\"text-align: right;\">\n",
       "      <th></th>\n",
       "      <th>Survived</th>\n",
       "      <th>Pclass</th>\n",
       "      <th>Name</th>\n",
       "      <th>Sex</th>\n",
       "      <th>Age</th>\n",
       "      <th>SibSp</th>\n",
       "      <th>Parch</th>\n",
       "      <th>Ticket</th>\n",
       "      <th>Fare</th>\n",
       "      <th>Embarked</th>\n",
       "      <th>family_size</th>\n",
       "      <th>Title_Cleaned</th>\n",
       "      <th>mapped_title</th>\n",
       "      <th>Embarked_country</th>\n",
       "      <th>predict_age_imputed</th>\n",
       "      <th>Age Category</th>\n",
       "    </tr>\n",
       "  </thead>\n",
       "  <tbody>\n",
       "    <tr>\n",
       "      <th>0</th>\n",
       "      <td>0</td>\n",
       "      <td>3</td>\n",
       "      <td>Braund, Mr. Owen Harris</td>\n",
       "      <td>1</td>\n",
       "      <td>22.0</td>\n",
       "      <td>1</td>\n",
       "      <td>0</td>\n",
       "      <td>A/5 21171</td>\n",
       "      <td>7.25</td>\n",
       "      <td>2</td>\n",
       "      <td>2</td>\n",
       "      <td>mr</td>\n",
       "      <td>Man</td>\n",
       "      <td>England</td>\n",
       "      <td>22.0</td>\n",
       "      <td>adult</td>\n",
       "    </tr>\n",
       "  </tbody>\n",
       "</table>\n",
       "</div>"
      ],
      "text/plain": [
       "   Survived  Pclass                     Name  Sex   Age  SibSp  Parch  \\\n",
       "0         0       3  Braund, Mr. Owen Harris    1  22.0      1      0   \n",
       "\n",
       "      Ticket  Fare  Embarked  family_size Title_Cleaned mapped_title  \\\n",
       "0  A/5 21171  7.25         2            2            mr          Man   \n",
       "\n",
       "  Embarked_country  predict_age_imputed Age Category  \n",
       "0          England                 22.0        adult  "
      ]
     },
     "execution_count": 28,
     "metadata": {},
     "output_type": "execute_result"
    }
   ],
   "source": [
    "df.head(1)"
   ]
  },
  {
   "cell_type": "code",
   "execution_count": 29,
   "id": "7be487fb-9afb-4da6-bac2-11feedf9f3b1",
   "metadata": {},
   "outputs": [],
   "source": [
    "#df.drop('Mean Age',inplace =True,axis=1)"
   ]
  },
  {
   "cell_type": "code",
   "execution_count": 30,
   "id": "4996e96c-e280-462f-88d9-2123535eca8c",
   "metadata": {},
   "outputs": [],
   "source": [
    "#Mean of age to compare with predict age\n",
    "mean_age = df['Age'].mean()\n",
    "\n",
    "df['age_mean_imputed'] = df['Age']\n",
    "df['age_mean_imputed'] = df['age_mean_imputed'].fillna(mean_age)"
   ]
  },
  {
   "cell_type": "code",
   "execution_count": 31,
   "id": "bc3beba6-5de5-4b79-9445-f66a6e738a5a",
   "metadata": {},
   "outputs": [],
   "source": [
    "df.rename(columns={'Title_Cleaned':'Title'},inplace=True)"
   ]
  },
  {
   "cell_type": "code",
   "execution_count": 32,
   "id": "5f789f82-e52d-412f-9a62-9465b6d6c8c3",
   "metadata": {},
   "outputs": [
    {
     "data": {
      "text/html": [
       "<div>\n",
       "<style scoped>\n",
       "    .dataframe tbody tr th:only-of-type {\n",
       "        vertical-align: middle;\n",
       "    }\n",
       "\n",
       "    .dataframe tbody tr th {\n",
       "        vertical-align: top;\n",
       "    }\n",
       "\n",
       "    .dataframe thead th {\n",
       "        text-align: right;\n",
       "    }\n",
       "</style>\n",
       "<table border=\"1\" class=\"dataframe\">\n",
       "  <thead>\n",
       "    <tr style=\"text-align: right;\">\n",
       "      <th></th>\n",
       "      <th>Survived</th>\n",
       "      <th>Pclass</th>\n",
       "      <th>Name</th>\n",
       "      <th>Sex</th>\n",
       "      <th>Age</th>\n",
       "      <th>SibSp</th>\n",
       "      <th>Parch</th>\n",
       "      <th>Ticket</th>\n",
       "      <th>Fare</th>\n",
       "      <th>Embarked</th>\n",
       "      <th>family_size</th>\n",
       "      <th>Title</th>\n",
       "      <th>mapped_title</th>\n",
       "      <th>Embarked_country</th>\n",
       "      <th>predict_age_imputed</th>\n",
       "      <th>Age Category</th>\n",
       "      <th>age_mean_imputed</th>\n",
       "    </tr>\n",
       "  </thead>\n",
       "  <tbody>\n",
       "    <tr>\n",
       "      <th>0</th>\n",
       "      <td>0</td>\n",
       "      <td>3</td>\n",
       "      <td>Braund, Mr. Owen Harris</td>\n",
       "      <td>1</td>\n",
       "      <td>22.0</td>\n",
       "      <td>1</td>\n",
       "      <td>0</td>\n",
       "      <td>A/5 21171</td>\n",
       "      <td>7.2500</td>\n",
       "      <td>2</td>\n",
       "      <td>2</td>\n",
       "      <td>mr</td>\n",
       "      <td>Man</td>\n",
       "      <td>England</td>\n",
       "      <td>22.0</td>\n",
       "      <td>adult</td>\n",
       "      <td>22.0</td>\n",
       "    </tr>\n",
       "    <tr>\n",
       "      <th>1</th>\n",
       "      <td>1</td>\n",
       "      <td>1</td>\n",
       "      <td>Cumings, Mrs. John Bradley (Florence Briggs Th...</td>\n",
       "      <td>0</td>\n",
       "      <td>38.0</td>\n",
       "      <td>1</td>\n",
       "      <td>0</td>\n",
       "      <td>PC 17599</td>\n",
       "      <td>71.2833</td>\n",
       "      <td>0</td>\n",
       "      <td>2</td>\n",
       "      <td>mrs</td>\n",
       "      <td>Married_Woman</td>\n",
       "      <td>France</td>\n",
       "      <td>38.0</td>\n",
       "      <td>adult</td>\n",
       "      <td>38.0</td>\n",
       "    </tr>\n",
       "  </tbody>\n",
       "</table>\n",
       "</div>"
      ],
      "text/plain": [
       "   Survived  Pclass                                               Name  Sex  \\\n",
       "0         0       3                            Braund, Mr. Owen Harris    1   \n",
       "1         1       1  Cumings, Mrs. John Bradley (Florence Briggs Th...    0   \n",
       "\n",
       "    Age  SibSp  Parch     Ticket     Fare  Embarked  family_size Title  \\\n",
       "0  22.0      1      0  A/5 21171   7.2500         2            2    mr   \n",
       "1  38.0      1      0   PC 17599  71.2833         0            2   mrs   \n",
       "\n",
       "    mapped_title Embarked_country  predict_age_imputed Age Category  \\\n",
       "0            Man          England                 22.0        adult   \n",
       "1  Married_Woman           France                 38.0        adult   \n",
       "\n",
       "   age_mean_imputed  \n",
       "0              22.0  \n",
       "1              38.0  "
      ]
     },
     "execution_count": 32,
     "metadata": {},
     "output_type": "execute_result"
    }
   ],
   "source": [
    "df.head(2)"
   ]
  },
  {
   "cell_type": "code",
   "execution_count": 33,
   "id": "1f1bed50-5a2b-452b-a4c0-d0bfaeb8609c",
   "metadata": {},
   "outputs": [],
   "source": [
    "#print(f\"Mean of Predict Age where null values is filled with Regression Model :- {df['predict_age'].mean()}\")\n",
    "#print(f\"Mean of Age where null values is fill with mean :- {df['Mean Age'].mean()}\")"
   ]
  },
  {
   "cell_type": "code",
   "execution_count": 34,
   "id": "16143b09-1f63-47fb-880c-d0902d6328f5",
   "metadata": {},
   "outputs": [
    {
     "data": {
      "text/plain": [
       "\"#Box plot\\nplt.figure(figsize=(8,5))\\nsns.boxenplot(data=df[['predict_age','age_mean_imputed']])\\nplt.ylabel('Age')\""
      ]
     },
     "execution_count": 34,
     "metadata": {},
     "output_type": "execute_result"
    },
    {
     "data": {
      "image/png": "[encoded data removed]",
      "text/plain": [
       "<Figure size 1000x600 with 2 Axes>"
      ]
     },
     "metadata": {},
     "output_type": "display_data"
    }
   ],
   "source": [
    "#creating The plot difference between predict_age_imputed age_mean_imputed\n",
    "\n",
    "plt.figure(figsize=(10,6))\n",
    "\n",
    "plt.subplot(1,2,1)\n",
    "sns.histplot(df['age_mean_imputed'],kde=True)\n",
    "plt.title('Age Distribuation (Mean Imputation )')\n",
    "plt.xlabel('Age')\n",
    "plt.ylabel('Frequency')\n",
    "\n",
    "plt.subplot(1,2,2)\n",
    "sns.histplot(df['predict_age_imputed'],kde=True)\n",
    "plt.title('Age Distribuation (Regression Imputation )')\n",
    "plt.xlabel('Age')\n",
    "plt.ylabel('Frequency')\n",
    "\n",
    "plt.tight_layout()\n",
    "\n",
    "\n",
    "'''#Box plot\n",
    "plt.figure(figsize=(8,5))\n",
    "sns.boxenplot(data=df[['predict_age','age_mean_imputed']])\n",
    "plt.ylabel('Age')'''\n"
   ]
  },
  {
   "cell_type": "markdown",
   "id": "da90e343-3c1d-4dfc-9332-64cc72cf1147",
   "metadata": {},
   "source": [
    "## Questions to Solve"
   ]
  },
  {
   "cell_type": "code",
   "execution_count": 36,
   "id": "3e7bfb83-1959-4788-bea0-0966645f7e9c",
   "metadata": {},
   "outputs": [
    {
     "name": "stdout",
     "output_type": "stream",
     "text": [
      "Total Number of Passenger: 891\n",
      "Total Number of survivors: 342\n",
      "Survival percentage: 38.38%\n",
      "Total non survivors: 549\n"
     ]
    }
   ],
   "source": [
    "# 1 Question What is the percentage of survivors on the Titanic?\n",
    "\n",
    "#Calculate the total number of passengers\n",
    "total_passanger = len(df)\n",
    "\n",
    "#Calculate the total number of survivors\n",
    "total_survivors = df['Survived'].sum()\n",
    "\n",
    "survival_parcentage = (total_survivors / total_passanger) *100\n",
    "\n",
    "total_non_survivors  = total_passanger-total_survivors\n",
    "\n",
    "print(f\"Total Number of Passenger: {total_passanger}\")\n",
    "print(f\"Total Number of survivors: {total_survivors}\")\n",
    "print(f\"Survival percentage: {survival_parcentage:.2f}%\")\n",
    "print(f\"Total non survivors: {total_non_survivors}\")\n"
   ]
  },
  {
   "cell_type": "code",
   "execution_count": 37,
   "id": "46a169cd-bbb3-4db2-82ab-c1900354994b",
   "metadata": {},
   "outputs": [
    {
     "data": {
      "image/png": "[encoded data removed]",
      "text/plain": [
       "<Figure size 600x400 with 1 Axes>"
      ]
     },
     "metadata": {},
     "output_type": "display_data"
    }
   ],
   "source": [
    "# Data from the previous turn\n",
    "total_passengers = 891\n",
    "total_survivors = 342\n",
    "survival_percentage = 38.38\n",
    "total_non_survivors = total_passengers - total_survivors\n",
    "\n",
    "# Create a bar chart to visualize the number of survivors and non-survivors\n",
    "plt.figure(figsize=(6, 4))  # Adjust figure size for better readability\n",
    "categories = ['Survivors', 'Non-Survivors']\n",
    "counts = [total_survivors, total_non_survivors]\n",
    "\n",
    "sns.barplot(x=categories, y=counts)  # Create bar plot with categories and counts\n",
    "plt.xlabel('Passenger Status')  # Label the x-axis\n",
    "plt.ylabel('Number of Passengers')  # Label the y-axis\n",
    "plt.title('Titanic Survivors vs. Non-Survivors')  # Add a title\n",
    "plt.show()  # Display the plot\n"
   ]
  },
  {
   "cell_type": "code",
   "execution_count": 38,
   "id": "cb95a29d-b442-4bf0-855c-1b285d6468ca",
   "metadata": {},
   "outputs": [
    {
     "data": {
      "image/png": "[encoded data removed]",
      "text/plain": [
       "<Figure size 640x480 with 1 Axes>"
      ]
     },
     "metadata": {},
     "output_type": "display_data"
    }
   ],
   "source": [
    "sns.barplot(x='Sex',y ='Survived',hue='Embarked_country',data = df)\n",
    "plt.xlabel('Men/Women')\n",
    "plt.show()"
   ]
  },
  {
   "cell_type": "code",
   "execution_count": 39,
   "id": "6fbded14-4d62-4030-86cf-bbf0306bb9c9",
   "metadata": {},
   "outputs": [
    {
     "data": {
      "image/png": "[encoded data removed]",
      "text/plain": [
       "<Figure size 600x300 with 1 Axes>"
      ]
     },
     "metadata": {},
     "output_type": "display_data"
    }
   ],
   "source": [
    "# Create a stacked bar chart to visualize the survival count by mapped title for each embarked country\n",
    "grouped_data.plot(kind='bar', stacked=True, figsize=(6, 3))\n",
    "plt.title('Survival by Mapped Title across Embarked Country')\n",
    "plt.xlabel('Embarked Country')\n",
    "plt.ylabel('Count')\n",
    "plt.legend(title='(Survived, Mapped Title)')\n",
    "plt.xticks(rotation=45, ha='right')\n",
    "plt.tight_layout()\n",
    "plt.show()"
   ]
  },
  {
   "cell_type": "code",
   "execution_count": 40,
   "id": "49e0bfc5-a085-47e0-88f8-0074df01d595",
   "metadata": {},
   "outputs": [
    {
     "name": "stdout",
     "output_type": "stream",
     "text": [
      "\n",
      "Unique values in 'Embarked_Country': ['England' 'France' 'Ireland']\n"
     ]
    }
   ],
   "source": [
    "# You can also check the unique values in the new column to verify\n",
    "print(\"\\nUnique values in 'Embarked_Country':\", df['Embarked_country'].unique())"
   ]
  },
  {
   "cell_type": "code",
   "execution_count": 41,
   "id": "0ec441dc-9326-4b92-ac9f-4227071ccb7e",
   "metadata": {},
   "outputs": [
    {
     "data": {
      "text/plain": [
       "<Axes: xlabel='Sex', ylabel='Survived'>"
      ]
     },
     "execution_count": 41,
     "metadata": {},
     "output_type": "execute_result"
    },
    {
     "data": {
      "image/png": "[encoded data removed]",
      "text/plain": [
       "<Figure size 640x480 with 1 Axes>"
      ]
     },
     "metadata": {},
     "output_type": "display_data"
    }
   ],
   "source": [
    "sns.barplot(x='Sex',y='Survived',hue ='Pclass',data = df)"
   ]
  },
  {
   "cell_type": "code",
   "execution_count": 42,
   "id": "2a79f9b4-a96c-43a2-85be-163712494987",
   "metadata": {},
   "outputs": [
    {
     "data": {
      "image/png": "[encoded data removed]",
      "text/plain": [
       "<Figure size 800x400 with 1 Axes>"
      ]
     },
     "metadata": {},
     "output_type": "display_data"
    }
   ],
   "source": [
    "\n",
    "# Create the grouped bar chart\n",
    "plt.figure(figsize=(8, 4))\n",
    "sns.countplot(x='Pclass', hue='Survived',  data=df)\n",
    "plt.title('Survival Rate by Pclass')\n",
    "plt.xlabel('Passenger Class')\n",
    "plt.ylabel('Number of Passengers')\n",
    "plt.legend(title='Survived', labels=['No', 'Yes'])\n",
    "plt.show()\n"
   ]
  },
  {
   "cell_type": "code",
   "execution_count": 43,
   "id": "f95e290c-611d-4bce-9ace-671f0b87643b",
   "metadata": {},
   "outputs": [
    {
     "data": {
      "text/plain": [
       "<Figure size 800x600 with 0 Axes>"
      ]
     },
     "metadata": {},
     "output_type": "display_data"
    },
    {
     "data": {
      "image/png": "[encoded data removed]",
      "text/plain": [
       "<Figure size 1272.11x600 with 2 Axes>"
      ]
     },
     "metadata": {},
     "output_type": "display_data"
    }
   ],
   "source": [
    "# 2 Question :-  Create a grouped bar chart with separate plots by Sex\n",
    "\n",
    "plt.figure(figsize=(8,6))\n",
    "sns.catplot(x='Pclass', hue='Survived', col='Sex', data=df, kind='count', height=6, aspect=1)\n",
    "plt.subplots_adjust(top=0.8)\n",
    "plt.suptitle('Survival Rate by Pclass and Sex')\n",
    "#plt.xlabel('Passenger class')\n",
    "plt.ylabel('Number of passengers')\n",
    "plt.show()"
   ]
  },
  {
   "cell_type": "code",
   "execution_count": 44,
   "id": "c01ed263-8629-42a3-a318-22751fed228a",
   "metadata": {},
   "outputs": [
    {
     "data": {
      "text/html": [
       "<div>\n",
       "<style scoped>\n",
       "    .dataframe tbody tr th:only-of-type {\n",
       "        vertical-align: middle;\n",
       "    }\n",
       "\n",
       "    .dataframe tbody tr th {\n",
       "        vertical-align: top;\n",
       "    }\n",
       "\n",
       "    .dataframe thead th {\n",
       "        text-align: right;\n",
       "    }\n",
       "</style>\n",
       "<table border=\"1\" class=\"dataframe\">\n",
       "  <thead>\n",
       "    <tr style=\"text-align: right;\">\n",
       "      <th></th>\n",
       "      <th>Fare</th>\n",
       "      <th>Survived</th>\n",
       "    </tr>\n",
       "  </thead>\n",
       "  <tbody>\n",
       "    <tr>\n",
       "      <th>0</th>\n",
       "      <td>7.2500</td>\n",
       "      <td>0</td>\n",
       "    </tr>\n",
       "    <tr>\n",
       "      <th>1</th>\n",
       "      <td>71.2833</td>\n",
       "      <td>1</td>\n",
       "    </tr>\n",
       "    <tr>\n",
       "      <th>2</th>\n",
       "      <td>7.9250</td>\n",
       "      <td>1</td>\n",
       "    </tr>\n",
       "  </tbody>\n",
       "</table>\n",
       "</div>"
      ],
      "text/plain": [
       "      Fare  Survived\n",
       "0   7.2500         0\n",
       "1  71.2833         1\n",
       "2   7.9250         1"
      ]
     },
     "execution_count": 44,
     "metadata": {},
     "output_type": "execute_result"
    }
   ],
   "source": [
    "df[['Fare','Survived']].head(3)"
   ]
  },
  {
   "cell_type": "code",
   "execution_count": 45,
   "id": "cfd0571c-7e50-41d6-bb1e-518ec1547883",
   "metadata": {},
   "outputs": [
    {
     "name": "stdout",
     "output_type": "stream",
     "text": [
      "Correlation between Fare and Survival is 0.26\n"
     ]
    }
   ],
   "source": [
    "# 3 Question :- What is the correlation between Fare and survival?\n",
    "\n",
    "correlation = df['Fare'].corr(df['Survived'])\n",
    "print(f'Correlation between Fare and Survival is {correlation:.2f}')"
   ]
  },
  {
   "cell_type": "code",
   "execution_count": 46,
   "id": "c5a95166-d2e9-4bad-be1e-4bf4cf842cb5",
   "metadata": {},
   "outputs": [
    {
     "data": {
      "image/png": "[encoded data removed]",
      "text/plain": [
       "<Figure size 600x400 with 1 Axes>"
      ]
     },
     "metadata": {},
     "output_type": "display_data"
    }
   ],
   "source": [
    "# Creating the scatter plot\n",
    "plt.figure(figsize=(6, 4))\n",
    "sns.scatterplot(x='Fare', y='predict_age_imputed', data=df, alpha=0.8)  # Added alpha for better visibility\n",
    "plt.title('Correlation between Fare and Age')\n",
    "plt.xlabel('Fare')\n",
    "plt.ylabel('Age')\n",
    "plt.grid(True)  # Adding gridlines for easier reading\n",
    "plt.show()\n"
   ]
  },
  {
   "cell_type": "code",
   "execution_count": null,
   "id": "1e524f5c-bbb4-4c09-bfd2-e39dead1413e",
   "metadata": {},
   "outputs": [],
   "source": [
    "df.head(3)"
   ]
  },
  {
   "cell_type": "code",
   "execution_count": null,
   "id": "2af31907-c6e5-4b69-a247-520ac4642e82",
   "metadata": {},
   "outputs": [],
   "source": [
    "#4 Question :- What is the impact of family size (FamilySize) on survival rates?\n",
    "\n",
    "survival_by_familysize = df.groupby('family_size')['Survived'].mean().reset_index()\n",
    "print(survival_by_familysize)\n",
    "\n",
    "plt.figure(figsize=(8,4))\n",
    "sns.barplot(y='Survived',x='family_size',data=survival_by_familysize)\n",
    "plt.title(' survival rates by FamilySize')\n",
    "plt.xlabel('family_size')\n",
    "plt.ylabel('Survival Rate')\n",
    "plt.show()\n"
   ]
  },
  {
   "cell_type": "code",
   "execution_count": null,
   "id": "05d38f89-e90f-4c3f-ac0a-4221ae0a08c6",
   "metadata": {},
   "outputs": [],
   "source": [
    "# 5 :- Are passengers who embarked from certain locations more likely to survive?\n",
    "\n",
    "survival_df = df[df['Survived'] == 1] \n",
    "\n",
    "embarked_survival = survival_df.groupby('Embarked_country')['Survived'].count()\n",
    "print(embarked_survival)\n",
    "\n",
    "#creating bar plot\n",
    "\n",
    "# Now use original DataFrame (not grouped one) for the plot\n",
    "plt.figure(figsize=(6,3))\n",
    "sns.countplot(x='Embarked_country',data=survival_df)\n",
    "'''plt.title('Survivors by Embarkation Country and Sex')\n",
    "plt.xlabel('Embarked country')\n",
    "plt.ylabel('Number of survivor')\n",
    "plt.tight_layout()\n",
    "plt.show()'''"
   ]
  },
  {
   "cell_type": "code",
   "execution_count": null,
   "id": "232107f4-684e-4520-9252-71ef7a1c6e95",
   "metadata": {},
   "outputs": [],
   "source": [
    "df.head(2)"
   ]
  },
  {
   "cell_type": "code",
   "execution_count": null,
   "id": "b421211e-d936-4196-b803-b9b87ca5b991",
   "metadata": {},
   "outputs": [],
   "source": [
    "# 6 Question How does age distribution impact survival?\n",
    "\n",
    "plt.figure(figsize=(6,3))\n",
    "sns.lineplot(x='Age Category',y='Survived',data = df)\n",
    "plt.tight_layout()\n",
    "plt.show()"
   ]
  },
  {
   "cell_type": "code",
   "execution_count": null,
   "id": "78f5bcb7-f9ae-4f1f-878e-79a2c6fe57cb",
   "metadata": {},
   "outputs": [],
   "source": [
    "plt.figure(figsize=(6,3))\n",
    "sns.countplot(x='Age Category',hue='Survived',data = survival_df)\n",
    "plt.tight_layout()\n",
    "plt.show()\n"
   ]
  },
  {
   "cell_type": "code",
   "execution_count": null,
   "id": "162fdeac-cd38-4023-8a4b-e4225e7a745d",
   "metadata": {},
   "outputs": [],
   "source": []
  },
  {
   "cell_type": "code",
   "execution_count": null,
   "id": "afebcf9b-ecd7-4416-a48a-b71959c3fe2f",
   "metadata": {},
   "outputs": [],
   "source": [
    "df.head(3)"
   ]
  },
  {
   "cell_type": "code",
   "execution_count": null,
   "id": "83ee80b0-d360-496f-97d6-6c8621ef9562",
   "metadata": {},
   "outputs": [],
   "source": [
    "df.drop('Title',axis=1,inplace=True)"
   ]
  },
  {
   "cell_type": "code",
   "execution_count": null,
   "id": "3647b5fd-81d6-4843-9bf9-0329cd040386",
   "metadata": {},
   "outputs": [],
   "source": [
    "df.to_excel"
   ]
  },
  {
   "cell_type": "code",
   "execution_count": null,
   "id": "9f318621-c778-49e4-ae01-5519ced18fc2",
   "metadata": {},
   "outputs": [],
   "source": [
    "df.to_csv('titanic clean dataset utf.csv', index=False,encoding='utf-8')"
   ]
  },
  {
   "cell_type": "code",
   "execution_count": null,
   "id": "8a540c16-fd2e-428f-8b3c-5628ac307b0d",
   "metadata": {},
   "outputs": [],
   "source": [
    "df.isnull().sum()"
   ]
  },
  {
   "cell_type": "code",
   "execution_count": null,
   "id": "b596c65d-e35f-43a1-94ad-f885b0904741",
   "metadata": {},
   "outputs": [],
   "source": [
    "df.dtypes"
   ]
  },
  {
   "cell_type": "code",
   "execution_count": null,
   "id": "3c725c0c-1d9a-4ec5-bdce-f4ae885b0f1d",
   "metadata": {},
   "outputs": [],
   "source": []
  }
 ],
 "metadata": {
  "kernelspec": {
   "display_name": "Python [conda env:base] *",
   "language": "python",
   "name": "conda-base-py"
  },
  "language_info": {
   "codemirror_mode": {
    "name": "ipython",
    "version": 3
   },
   "file_extension": ".py",
   "mimetype": "text/x-python",
   "name": "python",
   "nbconvert_exporter": "python",
   "pygments_lexer": "ipython3",
   "version": "3.12.7"
  }
 },
 "nbformat": 4,
 "nbformat_minor": 5
}
